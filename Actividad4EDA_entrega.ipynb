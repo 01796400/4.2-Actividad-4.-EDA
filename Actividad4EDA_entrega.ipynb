{
 "cells": [
  {
   "cell_type": "markdown",
   "id": "d60b017d",
   "metadata": {},
   "source": [
    "# Actividad 4 - EDA (Análisis Exploratorio de Datos)\n",
    "### Objetivo\n",
    "El objetivo de esta actividad es describir los datos utilizando técnicas estadísticas y de visualización para comprender patrones, detectar errores y encontrar relaciones relevantes entre variables.\n",
    "\n",
    "### Conjunto de datos: riesgo crediticio"
   ]
  },
  {
   "cell_type": "markdown",
   "id": "8d5c0614",
   "metadata": {},
   "source": [
    "### Parte 1: Análisis descriptivo (univariante)"
   ]
  },
  {
   "cell_type": "code",
   "execution_count": null,
   "id": "08f7990d",
   "metadata": {},
   "outputs": [],
   "source": [
    "# Cargar el archivo CSV\n",
    "import pandas as pd\n",
    "\n",
    "df = pd.read_csv('credit_risk_dataset.csv')\n",
    "\n",
    "# Mostrar información del DataFrame\n",
    "df.info()"
   ]
  },
  {
   "cell_type": "markdown",
   "id": "3a9be41a",
   "metadata": {},
   "source": [
    "### 1.1. Porcentaje de valores faltantes por columna"
   ]
  },
  {
   "cell_type": "code",
   "execution_count": null,
   "id": "39d57a0f",
   "metadata": {},
   "outputs": [],
   "source": [
    "# Calcular el porcentaje de valores faltantes por columna\n",
    "df.isna().mean() * 100"
   ]
  },
  {
   "cell_type": "markdown",
   "id": "52bc4be2",
   "metadata": {},
   "source": [
    "### 1.2. Estadísticas descriptivas para variables numéricas"
   ]
  },
  {
   "cell_type": "code",
   "execution_count": null,
   "id": "eaa631db",
   "metadata": {},
   "outputs": [],
   "source": [
    "# Calcular estadísticas descriptivas para las variables numéricas\n",
    "df.describe()"
   ]
  },
  {
   "cell_type": "markdown",
   "id": "c1cea7d4",
   "metadata": {},
   "source": [
    "### 1.3. Asimetría y curtosis de 'person_age' y 'loan_int_rate'"
   ]
  },
  {
   "cell_type": "code",
   "execution_count": null,
   "id": "f82b73dc",
   "metadata": {},
   "outputs": [],
   "source": [
    "from scipy.stats import skew, kurtosis\n",
    "\n",
    "# Calcular asimetría y curtosis\n",
    "age_skewness = skew(df['person_age'])\n",
    "age_kurtosis = kurtosis(df['person_age'])\n",
    "rate_skewness = skew(df['loan_int_rate'].dropna())\n",
    "rate_kurtosis = kurtosis(df['loan_int_rate'].dropna())\n",
    "\n",
    "(age_skewness, age_kurtosis, rate_skewness, rate_kurtosis)"
   ]
  },
  {
   "cell_type": "markdown",
   "id": "14e3febc",
   "metadata": {},
   "source": [
    "### 1.4. Histogramas de las variables 'person_age' y 'loan_int_rate'"
   ]
  },
  {
   "cell_type": "code",
   "execution_count": null,
   "id": "c656f889",
   "metadata": {},
   "outputs": [],
   "source": [
    "import seaborn as sns\n",
    "import matplotlib.pyplot as plt\n",
    "\n",
    "# Crear histogramas\n",
    "fig, axes = plt.subplots(2, 1, figsize=(10, 10))\n",
    "\n",
    "sns.histplot(df['person_age'], kde=True, ax=axes[0], bins=30)\n",
    "axes[0].set_title('Distribución de person_age')\n",
    "\n",
    "sns.histplot(df['loan_int_rate'].dropna(), kde=True, ax=axes[1], bins=30)\n",
    "axes[1].set_title('Distribución de loan_int_rate')\n",
    "\n",
    "plt.tight_layout()\n",
    "plt.show()"
   ]
  },
  {
   "cell_type": "markdown",
   "id": "a2ec682a",
   "metadata": {},
   "source": [
    "### 1.5. Boxplot de la variable 'person_age' y detección de valores atípicos"
   ]
  },
  {
   "cell_type": "code",
   "execution_count": null,
   "id": "af1cb13a",
   "metadata": {},
   "outputs": [],
   "source": [
    "# Boxplot para 'person_age'\n",
    "sns.boxplot(x=df['person_age'])\n",
    "plt.title('Boxplot de person_age')\n",
    "plt.show()\n",
    "\n",
    "# Calcular valores atípicos\n",
    "percentile_25 = df['person_age'].quantile(0.25)\n",
    "percentile_75 = df['person_age'].quantile(0.75)\n",
    "iqr = percentile_75 - percentile_25\n",
    "upper_limit = percentile_75 + 1.5 * iqr\n",
    "lower_limit = percentile_25 - 1.5 * iqr\n",
    "\n",
    "IQR_outliers = df[(df['person_age'] <= lower_limit) | (df['person_age'] >= upper_limit)]\n",
    "IQR_outliers"
   ]
  },
  {
   "cell_type": "markdown",
   "id": "7967fa2b",
   "metadata": {},
   "source": [
    "### 1.6. Estadísticas descriptivas para variables cualitativas"
   ]
  },
  {
   "cell_type": "code",
   "execution_count": null,
   "id": "4a92d76f",
   "metadata": {},
   "outputs": [],
   "source": [
    "# Obtener estadísticas para variables cualitativas\n",
    "df.describe(include='object')"
   ]
  },
  {
   "cell_type": "markdown",
   "id": "2eb4e768",
   "metadata": {},
   "source": [
    "### 1.7. Gráficos de barras para variables cualitativas"
   ]
  },
  {
   "cell_type": "code",
   "execution_count": null,
   "id": "a80b50fe",
   "metadata": {},
   "outputs": [],
   "source": [
    "# Gráficos de barras\n",
    "fig, axes = plt.subplots(2, 2, figsize=(14, 10))\n",
    "\n",
    "sns.countplot(x='person_home_ownership', data=df, ax=axes[0, 0])\n",
    "axes[0, 0].set_title('person_home_ownership')\n",
    "\n",
    "sns.countplot(x='loan_intent', data=df, ax=axes[0, 1])\n",
    "axes[0, 1].set_title('loan_intent')\n",
    "\n",
    "sns.countplot(x='loan_grade', data=df, ax=axes[1, 0])\n",
    "axes[1, 0].set_title('loan_grade')\n",
    "\n",
    "sns.countplot(x='cb_person_default_on_file', data=df, ax=axes[1, 1])\n",
    "axes[1, 1].set_title('cb_person_default_on_file')\n",
    "\n",
    "plt.tight_layout()\n",
    "plt.show()"
   ]
  },
  {
   "cell_type": "markdown",
   "id": "4219c36b",
   "metadata": {},
   "source": [
    "### Parte 2: Análisis de correlación"
   ]
  },
  {
   "cell_type": "markdown",
   "id": "a331a41d",
   "metadata": {},
   "source": [
    "### 2.1. Boxplot de la variable 'loan_percent_income' según 'loan_status'"
   ]
  },
  {
   "cell_type": "code",
   "execution_count": null,
   "id": "d4f4264f",
   "metadata": {},
   "outputs": [],
   "source": [
    "# Crear boxplot para loan_percent_income según loan_status\n",
    "sns.boxplot(x='loan_status', y='loan_percent_income', data=df)\n",
    "plt.title('Distribución de loan_percent_income según loan_status')\n",
    "plt.show()"
   ]
  },
  {
   "cell_type": "markdown",
   "id": "a7f4ca7c",
   "metadata": {},
   "source": [
    "### 2.2. Gráficos de barras con hue para 'loan_status'"
   ]
  },
  {
   "cell_type": "code",
   "execution_count": null,
   "id": "e00b6f02",
   "metadata": {},
   "outputs": [],
   "source": [
    "# Gráficos de barras con hue para loan_status\n",
    "fig, axes = plt.subplots(2, 2, figsize=(14, 10))\n",
    "\n",
    "sns.countplot(x='person_home_ownership', hue='loan_status', data=df, ax=axes[0, 0])\n",
    "axes[0, 0].set_title('person_home_ownership según loan_status')\n",
    "\n",
    "sns.countplot(x='loan_intent', hue='loan_status', data=df, ax=axes[0, 1])\n",
    "axes[0, 1].set_title('loan_intent según loan_status')\n",
    "\n",
    "sns.countplot(x='loan_grade', hue='loan_status', data=df, ax=axes[1, 0])\n",
    "axes[1, 0].set_title('loan_grade según loan_status')\n",
    "\n",
    "sns.countplot(x='cb_person_default_on_file', hue='loan_status', data=df, ax=axes[1, 1])\n",
    "axes[1, 1].set_title('cb_person_default_on_file según loan_status')\n",
    "\n",
    "plt.tight_layout()\n",
    "plt.show()"
   ]
  },
  {
   "cell_type": "markdown",
   "id": "05b3f0e5",
   "metadata": {},
   "source": [
    "### 2.3. Mapa de calor de correlaciones"
   ]
  },
  {
   "cell_type": "code",
   "execution_count": null,
   "id": "404b0deb",
   "metadata": {},
   "outputs": [],
   "source": [
    "# Crear mapa de calor de correlaciones\n",
    "correlation_matrix = df.corr()\n",
    "plt.figure(figsize=(10, 8))\n",
    "sns.heatmap(correlation_matrix, annot=True, cmap='coolwarm', fmt='.2f')\n",
    "plt.title('Mapa de calor de correlaciones entre variables')\n",
    "plt.show()"
   ]
  }
 ],
 "metadata": {},
 "nbformat": 4,
 "nbformat_minor": 5
}
