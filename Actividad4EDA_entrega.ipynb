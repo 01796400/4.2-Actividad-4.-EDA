{
 "cells": [
  {
   "cell_type": "markdown",
   "id": "c914d999",
   "metadata": {},
   "source": [
    "# Actividad 4 - EDA (Análisis Exploratorio de Datos)\n",
    "### Objetivo\n",
    "El objetivo de esta actividad es describir los datos utilizando técnicas estadísticas y de visualización para comprender patrones, detectar errores y encontrar relaciones relevantes entre variables.\n",
    "\n",
    "### Conjunto de datos: riesgo crediticio"
   ]
  },
  {
   "cell_type": "markdown",
   "id": "0a512915",
   "metadata": {},
   "source": [
    "### Parte 1: Análisis descriptivo (univariante)"
   ]
  },
  {
   "cell_type": "code",
   "execution_count": null,
   "id": "f41e275a",
   "metadata": {},
   "outputs": [],
   "source": [
    "# Cargar el archivo CSV\n",
    "import pandas as pd\n",
    "\n",
    "df = pd.read_csv('credit_risk_dataset.csv')\n",
    "\n",
    "# Mostrar información del DataFrame\n",
    "df.info()"
   ]
  },
  {
   "cell_type": "markdown",
   "id": "4c3729d9",
   "metadata": {},
   "source": [
    "### 1.1. Porcentaje de valores faltantes por columna"
   ]
  },
  {
   "cell_type": "code",
   "execution_count": null,
   "id": "5f85100c",
   "metadata": {},
   "outputs": [],
   "source": [
    "# Calcular el porcentaje de valores faltantes por columna\n",
    "df.isna().mean() * 100"
   ]
  },
  {
   "cell_type": "markdown",
   "id": "f5551c8b",
   "metadata": {},
   "source": [
    "### 1.2. Estadísticas descriptivas para variables numéricas"
   ]
  },
  {
   "cell_type": "code",
   "execution_count": null,
   "id": "4682b373",
   "metadata": {},
   "outputs": [],
   "source": [
    "# Calcular estadísticas descriptivas para las variables numéricas\n",
    "df.describe()"
   ]
  },
  {
   "cell_type": "markdown",
   "id": "3f10473f",
   "metadata": {},
   "source": [
    "### 1.3. Asimetría y curtosis de 'person_age' y 'loan_int_rate'"
   ]
  },
  {
   "cell_type": "code",
   "execution_count": null,
   "id": "586f5c96",
   "metadata": {},
   "outputs": [],
   "source": [
    "from scipy.stats import skew, kurtosis\n",
    "\n",
    "# Calcular asimetría y curtosis\n",
    "age_skewness = skew(df['person_age'])\n",
    "age_kurtosis = kurtosis(df['person_age'])\n",
    "rate_skewness = skew(df['loan_int_rate'].dropna())\n",
    "rate_kurtosis = kurtosis(df['loan_int_rate'].dropna())\n",
    "\n",
    "(age_skewness, age_kurtosis, rate_skewness, rate_kurtosis)"
   ]
  },
  {
   "cell_type": "markdown",
   "id": "37594b24",
   "metadata": {},
   "source": [
    "### 1.4. Histogramas de las variables 'person_age' y 'loan_int_rate'"
   ]
  },
  {
   "cell_type": "code",
   "execution_count": null,
   "id": "7449d2a1",
   "metadata": {},
   "outputs": [],
   "source": [
    "import seaborn as sns\n",
    "import matplotlib.pyplot as plt\n",
    "\n",
    "# Crear histogramas\n",
    "fig, axes = plt.subplots(2, 1, figsize=(10, 10))\n",
    "\n",
    "sns.histplot(df['person_age'], kde=True, ax=axes[0], bins=30)\n",
    "axes[0].set_title('Distribución de person_age')\n",
    "\n",
    "sns.histplot(df['loan_int_rate'].dropna(), kde=True, ax=axes[1], bins=30)\n",
    "axes[1].set_title('Distribución de loan_int_rate')\n",
    "\n",
    "plt.tight_layout()\n",
    "plt.show()"
   ]
  },
  {
   "cell_type": "markdown",
   "id": "e468f0c5",
   "metadata": {},
   "source": [
    "### 1.5. Boxplot de la variable 'person_age' y detección de valores atípicos"
   ]
  },
  {
   "cell_type": "code",
   "execution_count": null,
   "id": "1f3d8a1f",
   "metadata": {},
   "outputs": [],
   "source": [
    "# Boxplot para 'person_age'\n",
    "sns.boxplot(x=df['person_age'])\n",
    "plt.title('Boxplot de person_age')\n",
    "plt.show()\n",
    "\n",
    "# Calcular valores atípicos\n",
    "percentile_25 = df['person_age'].quantile(0.25)\n",
    "percentile_75 = df['person_age'].quantile(0.75)\n",
    "iqr = percentile_75 - percentile_25\n",
    "upper_limit = percentile_75 + 1.5 * iqr\n",
    "lower_limit = percentile_25 - 1.5 * iqr\n",
    "\n",
    "IQR_outliers = df[(df['person_age'] <= lower_limit) | (df['person_age'] >= upper_limit)]\n",
    "IQR_outliers"
   ]
  },
  {
   "cell_type": "markdown",
   "id": "f0170bf0",
   "metadata": {},
   "source": [
    "### 1.6. Estadísticas descriptivas para variables cualitativas"
   ]
  },
  {
   "cell_type": "code",
   "execution_count": null,
   "id": "6e9634cb",
   "metadata": {},
   "outputs": [],
   "source": [
    "# Obtener estadísticas para variables cualitativas\n",
    "df.describe(include='object')"
   ]
  },
  {
   "cell_type": "markdown",
   "id": "f7dbf56d",
   "metadata": {},
   "source": [
    "### 1.7. Gráficos de barras para variables cualitativas"
   ]
  },
  {
   "cell_type": "code",
   "execution_count": null,
   "id": "fcc1d447",
   "metadata": {},
   "outputs": [],
   "source": [
    "# Gráficos de barras\n",
    "fig, axes = plt.subplots(2, 2, figsize=(14, 10))\n",
    "\n",
    "sns.countplot(x='person_home_ownership', data=df, ax=axes[0, 0])\n",
    "axes[0, 0].set_title('person_home_ownership')\n",
    "\n",
    "sns.countplot(x='loan_intent', data=df, ax=axes[0, 1])\n",
    "axes[0, 1].set_title('loan_intent')\n",
    "\n",
    "sns.countplot(x='loan_grade', data=df, ax=axes[1, 0])\n",
    "axes[1, 0].set_title('loan_grade')\n",
    "\n",
    "sns.countplot(x='cb_person_default_on_file', data=df, ax=axes[1, 1])\n",
    "axes[1, 1].set_title('cb_person_default_on_file')\n",
    "\n",
    "plt.tight_layout()\n",
    "plt.show()"
   ]
  },
  {
   "cell_type": "markdown",
   "id": "ee063458",
   "metadata": {},
   "source": [
    "### Parte 2: Análisis de correlación"
   ]
  },
  {
   "cell_type": "markdown",
   "id": "d65e79a0",
   "metadata": {},
   "source": [
    "### 2.1. Boxplot de la variable 'loan_percent_income' según 'loan_status'"
   ]
  },
  {
   "cell_type": "code",
   "execution_count": null,
   "id": "073de2ce",
   "metadata": {},
   "outputs": [],
   "source": [
    "# Crear boxplot para loan_percent_income según loan_status\n",
    "sns.boxplot(x='loan_status', y='loan_percent_income', data=df)\n",
    "plt.title('Distribución de loan_percent_income según loan_status')\n",
    "plt.show()"
   ]
  },
  {
   "cell_type": "markdown",
   "id": "a41ba735",
   "metadata": {},
   "source": [
    "### 2.2. Gráficos de barras con hue para 'loan_status'"
   ]
  },
  {
   "cell_type": "code",
   "execution_count": null,
   "id": "e8b2dacf",
   "metadata": {},
   "outputs": [],
   "source": [
    "# Gráficos de barras con hue para loan_status\n",
    "fig, axes = plt.subplots(2, 2, figsize=(14, 10))\n",
    "\n",
    "sns.countplot(x='person_home_ownership', hue='loan_status', data=df, ax=axes[0, 0])\n",
    "axes[0, 0].set_title('person_home_ownership según loan_status')\n",
    "\n",
    "sns.countplot(x='loan_intent', hue='loan_status', data=df, ax=axes[0, 1])\n",
    "axes[0, 1].set_title('loan_intent según loan_status')\n",
    "\n",
    "sns.countplot(x='loan_grade', hue='loan_status', data=df, ax=axes[1, 0])\n",
    "axes[1, 0].set_title('loan_grade según loan_status')\n",
    "\n",
    "sns.countplot(x='cb_person_default_on_file', hue='loan_status', data=df, ax=axes[1, 1])\n",
    "axes[1, 1].set_title('cb_person_default_on_file según loan_status')\n",
    "\n",
    "plt.tight_layout()\n",
    "plt.show()"
   ]
  },
  {
   "cell_type": "markdown",
   "id": "c1049f1a",
   "metadata": {},
   "source": [
    "### 2.3. Mapa de calor de correlaciones"
   ]
  },
  {
   "cell_type": "code",
   "execution_count": null,
   "id": "a4809711",
   "metadata": {},
   "outputs": [],
   "source": [
    "# Seleccionar solo las columnas numéricas\n",
    "correlation_matrix = df.select_dtypes(include=['float64', 'int64']).corr()\n",
    "\n",
    "# Crear mapa de calor\n",
    "plt.figure(figsize=(10, 8))\n",
    "sns.heatmap(correlation_matrix, annot=True, cmap='coolwarm', fmt='.2f')\n",
    "plt.title('Mapa de calor de correlaciones entre variables numéricas')\n",
    "plt.show()"
   ]
  }
 ],
 "metadata": {},
 "nbformat": 4,
 "nbformat_minor": 5
}
